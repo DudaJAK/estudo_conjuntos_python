{
 "cells": [
  {
   "cell_type": "markdown",
   "id": "4f40bc27",
   "metadata": {},
   "source": [
    "# conjuntos"
   ]
  },
  {
   "cell_type": "code",
   "execution_count": 12,
   "id": "a1844940",
   "metadata": {},
   "outputs": [],
   "source": [
    "#criando um conjunto\n",
    "\n",
    "lista = [1,2,3,3,7,9,22,22,22,8,47,2]\n",
    "conjunto_1 = set(lista)\n"
   ]
  },
  {
   "cell_type": "code",
   "execution_count": 2,
   "id": "9b48ed58",
   "metadata": {},
   "outputs": [
    {
     "name": "stdout",
     "output_type": "stream",
     "text": [
      "{1, 2, 3, 7, 8, 9, 47, 22}\n"
     ]
    }
   ],
   "source": [
    "print(conjunto_1)"
   ]
  },
  {
   "cell_type": "code",
   "execution_count": 4,
   "id": "6635fb05",
   "metadata": {},
   "outputs": [
    {
     "data": {
      "text/plain": [
       "[1, 2, 3, 3, 7, 9, 22, 22, 22, 8, 47, 2]"
      ]
     },
     "execution_count": 4,
     "metadata": {},
     "output_type": "execute_result"
    }
   ],
   "source": [
    "lista"
   ]
  },
  {
   "cell_type": "code",
   "execution_count": 6,
   "id": "5aae31b1",
   "metadata": {},
   "outputs": [],
   "source": [
    "conjunto_2 = {1,3,3,5,5,0,0,23,-2}"
   ]
  },
  {
   "cell_type": "code",
   "execution_count": 7,
   "id": "4d5a7cda",
   "metadata": {},
   "outputs": [
    {
     "name": "stdout",
     "output_type": "stream",
     "text": [
      "{0, 1, 3, 5, 23, -2}\n"
     ]
    }
   ],
   "source": [
    "print(conjunto_2)"
   ]
  },
  {
   "cell_type": "code",
   "execution_count": 8,
   "id": "c3b09fcd",
   "metadata": {},
   "outputs": [],
   "source": [
    "conjunto_2.add(49)"
   ]
  },
  {
   "cell_type": "code",
   "execution_count": 9,
   "id": "ca1e4478",
   "metadata": {},
   "outputs": [
    {
     "name": "stdout",
     "output_type": "stream",
     "text": [
      "{0, 1, 49, 3, 5, 23, -2}\n"
     ]
    }
   ],
   "source": [
    "print(conjunto_2)"
   ]
  },
  {
   "cell_type": "code",
   "execution_count": 10,
   "id": "25e34e6e",
   "metadata": {},
   "outputs": [],
   "source": [
    "conjunto_2.remove(23)"
   ]
  },
  {
   "cell_type": "code",
   "execution_count": 11,
   "id": "98c8cda1",
   "metadata": {},
   "outputs": [
    {
     "name": "stdout",
     "output_type": "stream",
     "text": [
      "{0, 1, 49, 3, 5, -2}\n"
     ]
    }
   ],
   "source": [
    "print(conjunto_2)"
   ]
  },
  {
   "cell_type": "code",
   "execution_count": null,
   "id": "d35439d5",
   "metadata": {},
   "outputs": [],
   "source": []
  }
 ],
 "metadata": {
  "kernelspec": {
   "display_name": "Python 3 (ipykernel)",
   "language": "python",
   "name": "python3"
  },
  "language_info": {
   "codemirror_mode": {
    "name": "ipython",
    "version": 3
   },
   "file_extension": ".py",
   "mimetype": "text/x-python",
   "name": "python",
   "nbconvert_exporter": "python",
   "pygments_lexer": "ipython3",
   "version": "3.10.9"
  }
 },
 "nbformat": 4,
 "nbformat_minor": 5
}
